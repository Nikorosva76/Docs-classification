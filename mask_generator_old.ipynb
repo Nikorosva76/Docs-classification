{
 "cells": [
  {
   "cell_type": "code",
   "execution_count": null,
   "id": "cabe8794",
   "metadata": {},
   "outputs": [],
   "source": [
    "import numpy as np\n",
    "import pandas as pd\n",
    "import matplotlib.pyplot as plt\n",
    "from PIL import Image\n",
    "import os"
   ]
  },
  {
   "cell_type": "code",
   "execution_count": null,
   "id": "d86528b4",
   "metadata": {},
   "outputs": [],
   "source": [
    "mask_height = 20 # в процентах потом от высоты изображения 1684\n",
    "mask_widht = 45# в процентах потом от ширины изображения 1191"
   ]
  },
  {
   "cell_type": "markdown",
   "id": "e1a13b59",
   "metadata": {},
   "source": [
    "## Генератор из образцов маски"
   ]
  },
  {
   "cell_type": "code",
   "execution_count": null,
   "id": "775798b1",
   "metadata": {},
   "outputs": [],
   "source": [
    "main_path = \"L:\\\\АвтоСтатистика\\\\Распознавание текста\\\\text_recognising\\\\russian_shrift\\\\\"\n",
    "main_path = \"C:\\\\Users\\\\с\\\\Desktop\\\\Распознавание текста\\\\text_recognising\\\\russian_shrift\\\\\""
   ]
  },
  {
   "cell_type": "code",
   "execution_count": null,
   "id": "09f9bc76",
   "metadata": {},
   "outputs": [],
   "source": [
    "#путь к исходникам png\n",
    "path_png = main_path + \"DOCS_ALL\\\\ALL_PNG\\\\\"#_correct\\\\\""
   ]
  },
  {
   "cell_type": "code",
   "execution_count": null,
   "id": "264af87b",
   "metadata": {},
   "outputs": [],
   "source": [
    "file_list = pd.DataFrame(columns=['file_name','mask','x_0','y_0'])"
   ]
  },
  {
   "cell_type": "markdown",
   "id": "ddc83878",
   "metadata": {},
   "source": [
    "## Генерация образцов"
   ]
  },
  {
   "cell_type": "code",
   "execution_count": null,
   "id": "16f09eb8",
   "metadata": {},
   "outputs": [],
   "source": [
    "def generate(im_num, file_list, x_med, y_med):\n",
    "    \n",
    "    global main_path, path_png, mask_height, mask_widht\n",
    "    \n",
    "    #im_num=3\n",
    "    image_file = file_list.loc[im_num,'file_name']\n",
    "    image = np.array(Image.open(path_png+image_file))\n",
    "\n",
    "    mask = file_list.loc[im_num,'mask']\n",
    "    \n",
    "    path_train = main_path + \"DOCS_masks\\\\train\\\\\" + mask + \"\\\\\"\n",
    "    path_test  = main_path + \"DOCS_masks\\\\test\\\\\"  + mask + \"\\\\\"\n",
    "    \n",
    "    path_train_other = main_path + \"DOCS_masks\\\\train\\\\other\\\\\"\n",
    "    path_test_other  = main_path + \"DOCS_masks\\\\test\\\\other\\\\\"\n",
    "\n",
    "    mask = mask + '_b_' + str(im_num)\n",
    "    \n",
    "    x_0 = file_list.loc[im_num,'x_0']\n",
    "    y_0 = file_list.loc[im_num,'y_0']\n",
    "\n",
    "\n",
    "    #вправо вниз\n",
    "    x_1 = x_0-1\n",
    "    y_1 = y_0-2\n",
    "    # вправо вверх\n",
    "    x_2 = x_0+1\n",
    "    # влево вверх\n",
    "    y_2=y_0+2\n",
    "\n",
    "    #trash frame\n",
    "    x_f_1 = x_med - 2 * mask_height\n",
    "    x_f_2 = x_med + 2 * mask_height\n",
    "    y_f_1 = y_med - 3 * mask_widht\n",
    "    y_f_2 = y_med + 3 * mask_widht\n",
    "\n",
    "    #генерация масок\n",
    "    i=0\n",
    "    for x in range(x_1,x_2):\n",
    "        for y in range(y_1,y_2):\n",
    "            print(x,y)\n",
    "            img = image[x:x+mask_height, y:y+mask_widht,:]\n",
    "            fig = plt.figure(figsize=(8,4))\n",
    "            plt.imshow(img) \n",
    "            plt.show()\n",
    "\n",
    "            way = np.random.random_sample()\n",
    "            if (way<0.03) or (way>0.97): \n",
    "                Image.fromarray(img).convert(\"RGB\").save(path_test + mask + '_%s.png' % i)\n",
    "                print(way, 'TEST!!!')\n",
    "            else: \n",
    "                Image.fromarray(img).convert(\"RGB\").save(path_train + mask + '_%s.png' % i)\n",
    "                print(way, 'TRAIN!!!')\n",
    "            i+=1\n",
    "\n",
    "    #генерация мусора     \n",
    "    i=0\n",
    "    for x in range(x_f_1,x_f_2,6): #3\n",
    "        for y in range(y_f_1,y_f_2,12):#6\n",
    "            if (x not in range(x_1-2,x_2+2)) & (y not in range(y_1-5,y_2+5)):\n",
    "                print(x,y)\n",
    "                img = image[x:x+mask_height, y:y+mask_widht,:]\n",
    "                fig = plt.figure(figsize=(8,4))\n",
    "                plt.imshow(img) \n",
    "                plt.show()\n",
    "\n",
    "                way = np.random.random_sample()\n",
    "                if (way<0.001) or (way>0.99): \n",
    "                    Image.fromarray(img).convert(\"RGB\").save(path_test_other + mask + '_oth_'+ str(im_num) + '_%s.png' % i)\n",
    "                    print(way, 'TEST!!!')\n",
    "                else: \n",
    "                    Image.fromarray(img).convert(\"RGB\").save(path_train_other + mask + '_oth_'+ str(im_num) + '_%s.png' % i)\n",
    "                    print(way, 'TRAIN!!!')\n",
    "            i+=1 \n",
    "    return print('ГОТОВО!!!')"
   ]
  },
  {
   "cell_type": "code",
   "execution_count": null,
   "id": "18f52fa6",
   "metadata": {
    "scrolled": false
   },
   "outputs": [],
   "source": [
    "i=0\n",
    "for filename in os.listdir(path_png): \n",
    "    #print(filename)\n",
    "    file_list.loc[i,'file_name'] = filename\n",
    "    i+=1"
   ]
  },
  {
   "cell_type": "code",
   "execution_count": null,
   "id": "f80ca722",
   "metadata": {},
   "outputs": [],
   "source": [
    "file_list#.loc[73,:]"
   ]
  },
  {
   "cell_type": "code",
   "execution_count": null,
   "id": "72469dd5",
   "metadata": {},
   "outputs": [],
   "source": [
    "im_num = 27\n",
    "image_file = file_list.loc[im_num,'file_name']\n",
    "image = np.array(Image.open(path_png+image_file))\n",
    "im_shape = image.shape\n",
    "print(im_shape)\n",
    "fig = plt.figure(figsize=(24,16))\n",
    "plt.imshow(image[int(im_shape[0]*0.05):int(im_shape[0]*0.20),:,:])\n",
    "plt.show()\n"
   ]
  },
  {
   "cell_type": "code",
   "execution_count": null,
   "id": "9d89745c",
   "metadata": {
    "scrolled": true
   },
   "outputs": [],
   "source": [
    "mask = '05T'\n",
    "x_0 = 191\n",
    "y_0 = 768\n",
    "img = image[x_0:x_0+mask_height, y_0:y_0+mask_widht,:]\n",
    "fig = plt.figure(figsize=(6,4))\n",
    "plt.imshow(img)\n",
    "plt.show()\n",
    "file_list.loc[im_num,'mask'] =  mask\n",
    "file_list.loc[im_num,'x_0'] =  x_0\n",
    "file_list.loc[im_num,'y_0'] =  y_0\n",
    "#file_list.loc[im_num,:]"
   ]
  },
  {
   "cell_type": "code",
   "execution_count": null,
   "id": "4dc63839",
   "metadata": {},
   "outputs": [],
   "source": [
    "path_csv = main_path + \"DOCS_masks\\\\\"\n",
    "name = 'file_list_'+ mask + '.csv'\n",
    "file_list.dropna(subset=['mask']).to_csv(path_csv + name)\n",
    "#file_list.loc[im_num-2:im_num+2,:]"
   ]
  },
  {
   "cell_type": "code",
   "execution_count": null,
   "id": "0ac82ec7",
   "metadata": {},
   "outputs": [],
   "source": [
    "#file_list = pd.read_csv(path_csv + 'file_list_01T.csv')\n",
    "spisok  = file_list.dropna(subset=['mask'])\n",
    "spisok"
   ]
  },
  {
   "cell_type": "code",
   "execution_count": null,
   "id": "f524d6c2",
   "metadata": {},
   "outputs": [],
   "source": [
    "x_med = int(spisok['x_0'].median())\n",
    "y_med = int(spisok['y_0'].median())\n",
    "print(x_med, y_med)"
   ]
  },
  {
   "cell_type": "code",
   "execution_count": null,
   "id": "402fe9be",
   "metadata": {},
   "outputs": [],
   "source": [
    "x_med = spisok.groupby(['mask'])['x_0'].median().astype(int)[0]\n",
    "y_med = spisok.groupby(['mask'])['y_0'].median().astype(int)[0]\n",
    "print(x_med, y_med)"
   ]
  },
  {
   "cell_type": "markdown",
   "id": "11c4984d",
   "metadata": {},
   "source": [
    "## Генерация"
   ]
  },
  {
   "cell_type": "code",
   "execution_count": null,
   "id": "1207f6c4",
   "metadata": {
    "scrolled": true
   },
   "outputs": [],
   "source": [
    "for i in list(spisok.index): generate(i, spisok, x_med, y_med)\n",
    "    #if i not in [0,1,22]: generate(i, spisok, x_med, y_med)"
   ]
  },
  {
   "cell_type": "markdown",
   "id": "f125e299",
   "metadata": {},
   "source": [
    "## THE END"
   ]
  }
 ],
 "metadata": {
  "kernelspec": {
   "display_name": "Python 3 (ipykernel)",
   "language": "python",
   "name": "python3"
  },
  "language_info": {
   "codemirror_mode": {
    "name": "ipython",
    "version": 3
   },
   "file_extension": ".py",
   "mimetype": "text/x-python",
   "name": "python",
   "nbconvert_exporter": "python",
   "pygments_lexer": "ipython3",
   "version": "3.10.6"
  },
  "toc": {
   "base_numbering": 1,
   "nav_menu": {},
   "number_sections": true,
   "sideBar": true,
   "skip_h1_title": false,
   "title_cell": "Table of Contents",
   "title_sidebar": "Contents",
   "toc_cell": false,
   "toc_position": {},
   "toc_section_display": true,
   "toc_window_display": false
  }
 },
 "nbformat": 4,
 "nbformat_minor": 5
}
