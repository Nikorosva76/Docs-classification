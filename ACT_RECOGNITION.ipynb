{
 "cells": [
  {
   "cell_type": "markdown",
   "id": "32565904",
   "metadata": {},
   "source": [
    "# Загрузка библиотек"
   ]
  },
  {
   "cell_type": "code",
   "execution_count": null,
   "id": "f573fce7",
   "metadata": {
    "scrolled": true
   },
   "outputs": [],
   "source": [
    "import numpy as np\n",
    "import pandas as pd\n",
    "import matplotlib.pyplot as plt\n",
    "from PIL import Image\n",
    "import os\n",
    "import fitz\n",
    "from math import *"
   ]
  },
  {
   "cell_type": "code",
   "execution_count": null,
   "id": "cc6ec324",
   "metadata": {},
   "outputs": [],
   "source": [
    "from tensorflow.keras.preprocessing.image import ImageDataGenerator\n",
    "from tensorflow.keras.models import Sequential\n",
    "from tensorflow.keras.layers import (Conv2D, Flatten, \n",
    "                                    Dense, Dropout, \n",
    "                                    MaxPool2D, GlobalAveragePooling2D, \n",
    "                                    MaxPooling2D, AveragePooling2D, \n",
    "                                    AvgPool2D)\n",
    "from tensorflow.keras.optimizers import Adam\n",
    "from keras.models import model_from_json"
   ]
  },
  {
   "cell_type": "markdown",
   "id": "deeb41fc",
   "metadata": {},
   "source": [
    "# Пути к папкам с документами"
   ]
  },
  {
   "cell_type": "code",
   "execution_count": null,
   "id": "91835b75",
   "metadata": {},
   "outputs": [],
   "source": [
    "main_path = \"L:\\\\АвтоСтатистика\\\\Распознавание текста\\\\text_recognising\\\\russian_shrift\\\\\"\n",
    "main_path = \"C:\\\\Users\\\\с\\\\Desktop\\\\Распознавание текста\\\\text_recognising\\\\russian_shrift\\\\\""
   ]
  },
  {
   "cell_type": "code",
   "execution_count": null,
   "id": "1ba51928",
   "metadata": {},
   "outputs": [],
   "source": [
    "path_pdf = 'ALL_PDF/'\n",
    "path_png = 'ALL_PNG/'\n",
    "path_png = 'ALL_PNG_correct/'\n",
    "path_png_cor = 'ALL_PNG_detected/'\n",
    "model_path = 'MODELS/' "
   ]
  },
  {
   "cell_type": "code",
   "execution_count": null,
   "id": "a035e4c7",
   "metadata": {},
   "outputs": [],
   "source": [
    "#путь к исходникам pdf\n",
    "path_pdf = main_path + \"DOCS_ALL\\\\ALL_PDF\\\\\"\n",
    "#путь к исходникам png\n",
    "path_png = main_path + \"DOCS_ALL\\\\ALL_PNG\\\\\"\n",
    "#путь к выровненным png\n",
    "path_png_cor = main_path + \"DOCS_ALL\\\\ALL_PNG_correct\\\\\"\n",
    "path_png_detected = main_path + \"DOCS_ALL\\\\ALL_PNG_detected\\\\\"\n",
    "model_path = main_path + \"models\\\\\" "
   ]
  },
  {
   "cell_type": "code",
   "execution_count": null,
   "id": "c4377583",
   "metadata": {},
   "outputs": [],
   "source": [
    "# настройка шрифтов для печати сообщений\n",
    "class color:\n",
    "    PURPLE = '\\033[95m'\n",
    "    CYAN = '\\033[96m'\n",
    "    DARKCYAN = '\\033[36m'\n",
    "    BLUE = '\\033[94m'\n",
    "    GREEN = '\\033[92m'\n",
    "    YELLOW = '\\033[93m'\n",
    "    RED = '\\033[91m'\n",
    "    BOLD = '\\033[1m'\n",
    "    NEGATIVE = '\\033[7m'\n",
    "    LIGHTBROUN = '\\033[33m'\n",
    "    LIGHTBLUE = '\\033[36m'\n",
    "    UNDERLINE = '\\033[4m'\n",
    "    END = '\\033[0m'\n",
    "\n",
    "print(color.BOLD + color.RED + color.UNDERLINE + 'ПРИВЕТИК!!!' + color.END)"
   ]
  },
  {
   "cell_type": "markdown",
   "id": "2065bee2",
   "metadata": {},
   "source": [
    "# Предварительная обработка актов: "
   ]
  },
  {
   "cell_type": "code",
   "execution_count": null,
   "id": "4e3ba8d2",
   "metadata": {},
   "outputs": [],
   "source": [
    "file_list = pd.DataFrame(columns=['pdf','png','orient','png_cor', 'mask', 'accuracy'])\n",
    "i=0\n",
    "for filename in os.listdir(path_pdf): \n",
    "    #print(filename)\n",
    "    file_list.loc[i,'pdf'] = filename\n",
    "    i+=1\n",
    "file_list"
   ]
  },
  {
   "cell_type": "markdown",
   "id": "8a3231b8",
   "metadata": {},
   "source": [
    "## Перегон из pdf в png"
   ]
  },
  {
   "cell_type": "code",
   "execution_count": null,
   "id": "fc3874eb",
   "metadata": {},
   "outputs": [],
   "source": [
    "def pdf_to_png(path, path_png):\n",
    "    for filename in os.listdir(path): \n",
    "        doc = fitz.open(path + filename)\n",
    "        print(filename)\n",
    "        for pg in range(doc.page_count):#doc.pageCount):\n",
    "            page = doc[pg]\n",
    "            rotate = int(0)\n",
    "         # Коэффициент масштабирования каждого размера равен 2, что позволяет генерировать изображение с разрешением, в четыре раза превышающим для нас.\n",
    "            zoom_x = 2.0\n",
    "            zoom_y = 2.0\n",
    "            trans = fitz.Matrix(zoom_x, zoom_y).prerotate(rotate)\n",
    "            pm = page.get_pixmap(matrix=trans, alpha=False)\n",
    "            pm.save(path_png + filename.strip('.pdf') + '%s.png' % pg)\n",
    "    print()\n",
    "    return print(color.BOLD + color.RED + color.UNDERLINE + 'ГОТОВО!' + color.END)\n",
    "    "
   ]
  },
  {
   "cell_type": "code",
   "execution_count": null,
   "id": "c94f140b",
   "metadata": {},
   "outputs": [],
   "source": [
    "pdf_to_png(path_pdf, path_png)"
   ]
  },
  {
   "cell_type": "markdown",
   "id": "5dc6e5ee",
   "metadata": {},
   "source": [
    "## Выборочная проверка png документов"
   ]
  },
  {
   "cell_type": "code",
   "execution_count": null,
   "id": "84eb47b7",
   "metadata": {},
   "outputs": [],
   "source": [
    "i=0\n",
    "for filename in os.listdir(path_png): \n",
    "    #print(filename)\n",
    "    file_list.loc[i,'png'] = filename\n",
    "    i+=1\n",
    "file_list = file_list.dropna(subset = ['png'])\n",
    "file_list"
   ]
  },
  {
   "cell_type": "markdown",
   "id": "80d7e5fe",
   "metadata": {},
   "source": [
    "## Проверка ориентации документа"
   ]
  },
  {
   "cell_type": "markdown",
   "id": "4cabdfac",
   "metadata": {},
   "source": [
    "## Проверка ориентации документа"
   ]
  },
  {
   "cell_type": "code",
   "execution_count": null,
   "id": "596c7d05",
   "metadata": {},
   "outputs": [],
   "source": [
    "mask_widht = 0.09236\n",
    "mask_height = 0.10095"
   ]
  },
  {
   "cell_type": "code",
   "execution_count": null,
   "id": "1648131b",
   "metadata": {},
   "outputs": [],
   "source": [
    "#direct = ['norm', 'right', 'left', 'upside_down']\n",
    "#frames = [[50,   120, mask_widht, mask_height, 2.65],\n",
    "#          [100,   950, mask_height, mask_widht, 2.65],\n",
    "#          [1470, 100, mask_height, mask_widht, 2.65],\n",
    "#          [1470, 970, mask_widht, mask_height, 2.65]]\n",
    "#frames = pd.DataFrame(index = direct, columns = ['x0', 'y0', 'mask_widht', 'mask_height', 'porog'], data = frames)"
   ]
  },
  {
   "cell_type": "code",
   "execution_count": null,
   "id": "eadad3a1",
   "metadata": {},
   "outputs": [],
   "source": [
    "direct = ['norm', 'right', 'left', 'upside_down']\n",
    "frames = [[0.02969, 0.10075, mask_widht, mask_height, 2.6],\n",
    "          [0.05938, 0.79765, mask_height, mask_widht, 2.6],\n",
    "          [0.87292, 0.08396, mask_height, mask_widht, 2.6],\n",
    "          [0.87292, 0.79765, mask_widht, mask_height, 2.6]]\n",
    "frames = pd.DataFrame(index = direct, columns = ['x0', 'y0', 'mask_widht', 'mask_height', 'porog'], data = frames)"
   ]
  },
  {
   "cell_type": "code",
   "execution_count": null,
   "id": "5a33747f",
   "metadata": {},
   "outputs": [],
   "source": [
    "frames"
   ]
  },
  {
   "cell_type": "code",
   "execution_count": null,
   "id": "bba7343c",
   "metadata": {},
   "outputs": [],
   "source": [
    "def dencity(image):\n",
    "    global porog, frames, direct\n",
    "    \n",
    "    #fig = plt.figure(figsize=(6,4))\n",
    "    #plt.imshow(image)\n",
    "    #plt.show()\n",
    "    \n",
    "    fin_dir = 'unknown'\n",
    "    fin_denc = 5 \n",
    "    \n",
    "    for dir in direct:\n",
    "        x_0 = int(image.shape[0] * frames.loc[dir,'x0'])\n",
    "        x_1 = int(image.shape[0] * (frames.loc[dir,'x0'] + frames.loc[dir,'mask_height']))\n",
    "        y_0 = int(image.shape[1] * frames.loc[dir,'y0'])   \n",
    "        y_1 = int(image.shape[1] * (frames.loc[dir,'y0'] + frames.loc[dir,'mask_widht']))\n",
    "        \n",
    "        frame = image[x_0:x_1, y_0:y_1,:]\n",
    "        #fig = plt.figure(figsize=(6,4))\n",
    "        #plt.imshow(frame)\n",
    "        #plt.show()\n",
    "        frame_dencity = frame.sum() / (frame.shape[0]*frame.shape[1])\n",
    "        #print(dir,' -/- ', frame_dencity)\n",
    "        #print('-----------------------')\n",
    "        if frame_dencity <= frames.loc[dir,'porog']:\n",
    "            #fig = plt.figure(figsize=(6,4))\n",
    "            #plt.imshow(frame)\n",
    "            #plt.show()\n",
    "                        \n",
    "            if frame_dencity <= fin_denc:\n",
    "                fin_dir = dir\n",
    "                fin_denc = round(frame_dencity,3)\n",
    "            #print('Ориентация:', dir,'Плотность:', frame_dencity)\n",
    "           \n",
    "        #print('====================================================================================')\n",
    "    return fin_dir, fin_denc"
   ]
  },
  {
   "cell_type": "code",
   "execution_count": null,
   "id": "35820a43",
   "metadata": {},
   "outputs": [],
   "source": [
    "for i in range(len(file_list)): \n",
    "    image_file = file_list.loc[i,'png']\n",
    "    #print(i,'-',image_file)\n",
    "    image = np.array(Image.open(path_png+image_file))/255\n",
    "    fin_dir, fin_denc = dencity(image)\n",
    "    #print('------------------------В РЕЗУЛЬТАТЕ------------------------------------------------')\n",
    "    #print('Ориентация:',fin_dir,'Плотность:', fin_denc)\n",
    "    #print('====================================================================================')\n",
    "    file_list.loc[i,'orient'] = fin_dir"
   ]
  },
  {
   "cell_type": "code",
   "execution_count": null,
   "id": "b6361385",
   "metadata": {},
   "outputs": [],
   "source": [
    "file_list"
   ]
  },
  {
   "cell_type": "markdown",
   "id": "319f4e7d",
   "metadata": {},
   "source": [
    "## Исправление ориентации"
   ]
  },
  {
   "cell_type": "code",
   "execution_count": null,
   "id": "937f88f9",
   "metadata": {},
   "outputs": [],
   "source": [
    "#count =0\n",
    "for row in range(len(file_list)):\n",
    "    #print(row, ' - ', file_list.loc[row,'png'])\n",
    "    im = file_list.loc[row,'png']\n",
    "    #fig = plt.figure(figsize=(6,4))\n",
    "    #plt.imshow(np.array(Image.open(path_png+im)))\n",
    "    #plt.show()\n",
    "    img = Image.open(path_png+im)\n",
    "    \n",
    "    if file_list.loc[row,'orient']!='unknown':\n",
    "        if file_list.loc[row,'orient'] == 'upside_down':\n",
    "            angle = 180\n",
    "            im_rotate = img.rotate(angle, expand=True, resample=Image.BILINEAR) #Image.Resampling.BILINEAR\n",
    "        elif file_list.loc[row,'orient'] == 'left':\n",
    "            angle = 270#180\n",
    "            im_rotate = img.rotate(angle, expand=True, resample=Image.BILINEAR)\n",
    "        elif file_list.loc[row,'orient'] == 'right':\n",
    "            angle = 90#180\n",
    "            im_rotate = img.rotate(angle, expand=True, resample=Image.BILINEAR)\n",
    "        else: \n",
    "            angle = 0\n",
    "            im_rotate = img\n",
    "    \n",
    "        #fig = plt.figure(figsize=(6,4))\n",
    "        #plt.imshow(im_rotate)\n",
    "        #plt.show()\n",
    "    \n",
    "        name = im.strip('.png') + '_cor_' + str(angle) + '.png'\n",
    "    \n",
    "        #запись выровненного изображения в файл\n",
    "        im_rotate.save(path_png_cor + name )\n",
    "        #count+=1\n",
    "        file_list.loc[row,'png_cor'] = name\n",
    "        #print('===================================================')\n",
    "    \n",
    "    else: \n",
    "        \n",
    "        name = im.strip('.png') + '_' + file_list.loc[row,'orient'] + '.png'\n",
    "        #запись выровненного изображения в файл\n",
    "        img.save(path_png_cor + name )\n",
    "        #count+=1\n",
    "        file_list.loc[row,'png_cor'] = name\n",
    "        \n",
    "print('--------------------------------------------------------------')\n",
    "print(color.BOLD + color.RED + color.UNDERLINE + 'ГОТОВО!' + color.END)"
   ]
  },
  {
   "cell_type": "code",
   "execution_count": null,
   "id": "bf99139e",
   "metadata": {},
   "outputs": [],
   "source": [
    "file_list"
   ]
  },
  {
   "cell_type": "code",
   "execution_count": null,
   "id": "a92cb2b9",
   "metadata": {},
   "outputs": [],
   "source": [
    "path_csv = main_path + \"DOCS_ALL\\\\\"\n",
    "file_list.to_csv(path_csv + 'file_log.csv')"
   ]
  },
  {
   "cell_type": "markdown",
   "id": "2db6f9c0",
   "metadata": {},
   "source": [
    "# Классификация актов"
   ]
  },
  {
   "cell_type": "markdown",
   "id": "f63a03b6",
   "metadata": {},
   "source": [
    "## Исходные параметры рысканья"
   ]
  },
  {
   "cell_type": "code",
   "execution_count": null,
   "id": "eff167c8",
   "metadata": {},
   "outputs": [],
   "source": [
    "path_png = path_png_cor"
   ]
  },
  {
   "cell_type": "code",
   "execution_count": null,
   "id": "4da052b2",
   "metadata": {},
   "outputs": [],
   "source": [
    "# размер маски\n",
    "resolution_x = 20\n",
    "resolution_y = 45\n",
    "\n",
    "mask_height = resolution_x # в процентах потом от высоты изображения 1684\n",
    "mask_widht = resolution_y # в процентах потом от ширины изображения 1191\n",
    "\n",
    "# шаг рысканья в пикселях\n",
    "down = 2 #вниз\n",
    "right = 2 #вправо\n",
    "\n",
    "#Порог точности\n",
    "tresh = 0.95"
   ]
  },
  {
   "cell_type": "code",
   "execution_count": null,
   "id": "e4fa88fa",
   "metadata": {},
   "outputs": [],
   "source": [
    "alfabet = {0: '01B', 1: '02B', 2: '02T', 3: 'other'}"
   ]
  },
  {
   "cell_type": "markdown",
   "id": "f934e934",
   "metadata": {},
   "source": [
    "## Загрузка обученной модели распознавания "
   ]
  },
  {
   "cell_type": "code",
   "execution_count": null,
   "id": "ee55185f",
   "metadata": {},
   "outputs": [],
   "source": [
    "#model_path = main_path + \"models\\\\\"    "
   ]
  },
  {
   "cell_type": "code",
   "execution_count": null,
   "id": "4ecc5a7a",
   "metadata": {},
   "outputs": [],
   "source": [
    "for filename in os.listdir(model_path): print(filename)"
   ]
  },
  {
   "cell_type": "code",
   "execution_count": null,
   "id": "57643fe5",
   "metadata": {},
   "outputs": [],
   "source": [
    "# load json and create model\n",
    "\n",
    "model_name = 'actual_model__multy_0_9_8.json'\n",
    "model_weights = 'actual_model__multy_0_9_8.h5'\n",
    "\n",
    "# load new model\n",
    "json_file = open(model_path + model_name, 'r')\n",
    "loaded_model_json = json_file.read()\n",
    "json_file.close()\n",
    "model = model_from_json(loaded_model_json)\n",
    "\n",
    "# load weights into new model\n",
    "model.load_weights(model_path + model_weights)\n",
    "print(color.RED + color.BOLD + \"МОДЕЛЬ РАСПОЗНАВАНИЯ ЗАГРУЖЕНА!\" + color.END)"
   ]
  },
  {
   "cell_type": "code",
   "execution_count": null,
   "id": "ad35b23a",
   "metadata": {},
   "outputs": [],
   "source": [
    "model.compile(loss='sparse_categorical_crossentropy', \n",
    "                     optimizer=Adam(learning_rate=0.0005), \n",
    "                     metrics=['acc'])\n",
    "model.summary()"
   ]
  },
  {
   "cell_type": "markdown",
   "id": "f65b0fbb",
   "metadata": {},
   "source": [
    "## Функции распознавания документа"
   ]
  },
  {
   "cell_type": "code",
   "execution_count": null,
   "id": "76f98075",
   "metadata": {},
   "outputs": [],
   "source": [
    "# Определение границ области поиска\n",
    "def start_point(shape):\n",
    "    global resolution_x, resolution_y, mask_heght, mask_widht\n",
    "    \n",
    "    frame_height = int(resolution_x * 2.5)\n",
    "    frame_widht = int(resolution_y * 1)\n",
    "    \n",
    "    #АЛЬБОМНАЯ ориентация\n",
    "    if shape[0] < shape[1]: \n",
    "        x_start = int(((147-int(2.5*mask_height))/1191)* shape[0]) # im_shape[0]\n",
    "        x_max = int(((147+int(2.5*mask_height))/1191)* shape[0])\n",
    "        y_start = int(((963-int(2*mask_widht))/1684)* shape[1]) # im_shape[1]\n",
    "        y_max = int(((963+int(2*mask_widht))/1684)* shape[1]) # im_shape[1]\n",
    "            \n",
    "    #КНИЖНАЯ ориентация\n",
    "    elif shape[0] > shape[1]: \n",
    "        x_start = int(((162-int(2.5*mask_height))/1684)* shape[0]) # im_shape[0]\n",
    "        x_max = int(((162+int(2.5*mask_height))/1684)* shape[0])\n",
    "        y_start = int(((810-int(2*mask_widht))/1191)* shape[1]) # im_shape[1]\n",
    "        y_max = int(((810+int(2*mask_widht))/1191)* shape[1]) # im_shape[1]\n",
    "        \n",
    "        #trash frame\n",
    "        #x_f_1 = x_med - mask_height\n",
    "        #x_f_2 = x_med + int(0.4 *  mask_height)\n",
    "        #y_f_1 = y_med - mask_widht\n",
    "        #y_f_2 = y_med + int(0.4 * mask_widht)\n",
    "\n",
    "        \n",
    "        #x_start = int((140/1684)* shape[0]) # im_shape[0]\n",
    "        #x_max = int(((140+frame_height)/1684)* shape[0])\n",
    "        #y_start = int((750/1191)* shape[1]) # im_shape[1]\n",
    "        #y_max = int(((750+frame_widht)/1191)* shape[1]) # im_shape[1]\n",
    "        \n",
    "    return x_start, x_max, y_start, y_max"
   ]
  },
  {
   "cell_type": "code",
   "execution_count": null,
   "id": "622e67c0",
   "metadata": {},
   "outputs": [],
   "source": [
    "# Показ участка документа плюс-минус 20 пикселей вокруг заданных координат \n",
    "def show_frame(image, point):\n",
    "        plt.imshow(image[point[0]-20:point[0]+20,\n",
    "                   point[1]-20:point[1]+20,:])"
   ]
  },
  {
   "cell_type": "code",
   "execution_count": null,
   "id": "cc39a77d",
   "metadata": {},
   "outputs": [],
   "source": [
    "def recogn(image):\n",
    "    global model\n",
    "    #fig = plt.figure(figsize=(4,3))\n",
    "    #plt.imshow(image) \n",
    "    #plt.show()\n",
    "    \n",
    "    img1 = image.reshape(1, resolution_x, resolution_y,3)\n",
    "    prob = model.predict(img1, verbose=0).round(2)\n",
    "    \n",
    "    val = pd.DataFrame(prob.T)\n",
    "    #val.head(33)\n",
    "    \n",
    "    #print(val)\n",
    "\n",
    "    proba = val.loc[:,0].max()\n",
    "    #print('Вероятность:', proba)\n",
    "    clas = val.loc[:,0].idxmax()\n",
    "    #print('Класс:',clas)\n",
    "    bukva = alfabet[clas]\n",
    "    #print('Вид акта:', bukva)\n",
    "    \n",
    "    return proba, clas, bukva"
   ]
  },
  {
   "cell_type": "code",
   "execution_count": null,
   "id": "afbfbd8b",
   "metadata": {},
   "outputs": [],
   "source": [
    "def down_sroke(image, y_0, filename):\n",
    "    global tresh, mask_height, mask_widht, x_start, x_max, y_start, y_max , down, right   \n",
    "\n",
    "    x = x_start\n",
    "    y = y_0\n",
    "    x_point = 0\n",
    "    y_point = 0\n",
    "    prob=0\n",
    "    max_proba=0\n",
    "    max_clas = 0\n",
    "    max_bukva = 'unknown'\n",
    "\n",
    "    while (x<=x_max-mask_height):\n",
    "        #print(x,y)\n",
    "        \n",
    "        #ОТСЫЛКА К МОДУЛЮ РАСПОЗНАВАНИЯ\n",
    "        prob, clas, bukva = recogn(image[x:x+mask_height,y:y+mask_widht,:]/255)\n",
    "        \n",
    "        if clas==3: x+=down\n",
    "        \n",
    "        elif clas!=3:\n",
    "            if (prob>tresh):#&(prob>max_proba):\n",
    "                max_proba = prob\n",
    "                max_clas = clas\n",
    "                max_bukva = bukva\n",
    "                x_point=x\n",
    "                y_point=y\n",
    "                x=x_max\n",
    "            else: x+=down\n",
    "        \n",
    "    \n",
    "    if (max_clas!=3) & (max_proba>tresh):\n",
    "        #print('---------------------------')\n",
    "        #print(max_bukva, max_proba, max_clas, x_point, y_point)\n",
    "    \n",
    "        img = image[x_point:x_point+mask_height,y_point:y_point+mask_widht,:]\n",
    "        \n",
    "        #fig = plt.figure(figsize=(6,4))\n",
    "        #plt.imshow(img) \n",
    "        #plt.show()\n",
    "        mask = filename + '_' + max_bukva + '_' + str(max_proba) + '_' + str(x_point) + '_' + str(y_point)+ '.png'\n",
    "        Image.fromarray(img).convert(\"RGB\").save(path_png_detected + mask)\n",
    "    #else: \n",
    "        #print('---------------------------')\n",
    "        #print ('Фрагмент не идентифицирован!!!!')\n",
    "    \n",
    "    return max_proba, max_clas, max_bukva, x_point, y_point"
   ]
  },
  {
   "cell_type": "code",
   "execution_count": null,
   "id": "6980f79f",
   "metadata": {},
   "outputs": [],
   "source": [
    "def right_sroke(image,filename):\n",
    "    \n",
    "    global tresh, mask_height, mask_widht, x_start, x_max, y_start, y_max , down, right   \n",
    "\n",
    "    y = y_start\n",
    "\n",
    "    x_point = 0\n",
    "    y_point = 0\n",
    "    \n",
    "    prob=0\n",
    "    max_proba=0\n",
    "    fin_clas =0\n",
    "    fin_bukva = 'unknown'\n",
    "    \n",
    "    while(y<=y_max-mask_widht):\n",
    "        #print(y)\n",
    "        prob, clas, bukva, x_p, y_p = down_sroke(image, y, filename)   \n",
    "        #prob, clas, bukva, x_p, y_p = down_sroke(image, y_start+230) \n",
    "        \n",
    "        if clas==3: y+=right\n",
    "        \n",
    "        elif clas!=3:\n",
    "            if (prob>tresh)&(prob>max_proba):\n",
    "                    max_proba = prob\n",
    "                    fin_clas = clas\n",
    "                    fin_bukva = bukva\n",
    "                    x_point=x_p\n",
    "                    y_point=y_p\n",
    "                    y=y_max\n",
    "            else: y+=right\n",
    "        \n",
    "    return max_proba, fin_clas, fin_bukva, x_point, y_point"
   ]
  },
  {
   "cell_type": "code",
   "execution_count": null,
   "id": "2566e4cd",
   "metadata": {},
   "outputs": [],
   "source": [
    "def drow_frame(x_start, x_max, y_start, y_max, filename, x_point, y_point):\n",
    "    \n",
    "    global mask_height, mask_widht\n",
    "    \n",
    "    image = np.array(Image.open(path_png_cor+filename))\n",
    "    im_shape = image.shape\n",
    "    \n",
    "    for y in range(y_start, y_max):\n",
    "        image[x_start, y, 1] = 0\n",
    "    for y in range(y_start, y_max):\n",
    "        image[x_max, y, 1] = 0\n",
    "    \n",
    "    for x in range(x_start, x_max):\n",
    "        image[x, y_start, 1] = 0\n",
    "    for x in range(x_start, x_max):\n",
    "        image[x, y_max, 1] = 0\n",
    "    \n",
    "    \n",
    "    for y in range(y_point, y_point + mask_widht):\n",
    "        image[x_point, y, 1] = 0\n",
    "    \n",
    "    for y in range(y_point, y_point + mask_widht):\n",
    "        image[x_point + mask_height, y, 1] = 0\n",
    "    \n",
    "    for x in range(x_point, x_point + mask_height):\n",
    "        image[x, y_point, 1] = 0\n",
    "    \n",
    "    for x in range(x_point, x_point + mask_height):\n",
    "        image[x, y_point + mask_widht, 1] = 0\n",
    "    \n",
    "    \n",
    "    fig = plt.figure(figsize=(24,16))\n",
    "    plt.imshow(image[:int(im_shape[0]*0.2),:,:])\n",
    "    plt.show()\n",
    "        \n",
    "    return image"
   ]
  },
  {
   "cell_type": "markdown",
   "id": "b80a6ba0",
   "metadata": {},
   "source": [
    "## Выборочная проверка png документов"
   ]
  },
  {
   "cell_type": "code",
   "execution_count": null,
   "id": "4c9e598e",
   "metadata": {},
   "outputs": [],
   "source": [
    "for filename in os.listdir(path_png_cor): print(filename)"
   ]
  },
  {
   "cell_type": "code",
   "execution_count": null,
   "id": "bab4f7f3",
   "metadata": {},
   "outputs": [],
   "source": [
    "image_file = 'oc03532820220704104518_0010_cor_90.png'\n",
    "fig = plt.figure(figsize=(12,8))\n",
    "image = np.array(Image.open(path_png_cor+image_file))#/255\n",
    "im_shape = image.shape\n",
    "print(im_shape)\n",
    "fig = plt.figure(figsize=(24,16))\n",
    "plt.imshow(image[:int(im_shape[0]*0.3),:,:])\n",
    "plt.show()"
   ]
  },
  {
   "cell_type": "code",
   "execution_count": null,
   "id": "65edccc4",
   "metadata": {},
   "outputs": [],
   "source": [
    "x_start, x_max, y_start, y_max = start_point(im_shape)"
   ]
  },
  {
   "cell_type": "code",
   "execution_count": null,
   "id": "3efc1309",
   "metadata": {},
   "outputs": [],
   "source": [
    "start_point(im_shape)"
   ]
  },
  {
   "cell_type": "code",
   "execution_count": null,
   "id": "c4af596c",
   "metadata": {},
   "outputs": [],
   "source": [
    "plt.imshow(image[x_start:x_max, y_start:y_max,:])"
   ]
  },
  {
   "cell_type": "code",
   "execution_count": null,
   "id": "14ceb00a",
   "metadata": {},
   "outputs": [],
   "source": [
    "max_proba, fin_clas, fin_bukva, x_point, y_point = right_sroke(image, image_file)"
   ]
  },
  {
   "cell_type": "code",
   "execution_count": null,
   "id": "7327fd56",
   "metadata": {},
   "outputs": [],
   "source": [
    "print(color.RED + 'Вид акта:', color.BOLD + color.BLUE + fin_bukva + color.END)\n",
    "print(color.RED + 'Точность распознавания:', color.BOLD + color.BLUE + str(max_proba) + color.END)"
   ]
  },
  {
   "cell_type": "markdown",
   "id": "a4e2fcb4",
   "metadata": {},
   "source": [
    "## Пакетная обработка файлов"
   ]
  },
  {
   "cell_type": "code",
   "execution_count": null,
   "id": "9174f8d9",
   "metadata": {
    "scrolled": false
   },
   "outputs": [],
   "source": [
    "for row in range(len(file_list['png_cor'])):\n",
    "    filename = file_list.loc[row,'png_cor']\n",
    "        \n",
    "    print(color.BOLD + color.RED + 'Обрабатывается файл: ' + color.END + color.UNDERLINE + filename + color.END)\n",
    "    \n",
    "    image = np.array(Image.open(path_png_cor+filename))#/255\n",
    "    im_shape = image.shape\n",
    "    x_start, x_max, y_start, y_max = start_point(im_shape)\n",
    "    \n",
    "    #fig = plt.figure(figsize=(6,4))\n",
    "    #plt.imshow(image[x_start:x_max, y_start:y_max,:])\n",
    "    #plt.show()\n",
    "        \n",
    "    \n",
    "    max_proba, fin_clas, fin_bukva, x_point, y_point = right_sroke(image, filename)\n",
    "        \n",
    "    #print(filename)\n",
    "    #print(max_proba, fin_clas, fin_bukva, x_point, y_point)\n",
    "    \n",
    "           \n",
    "    #запись выровненного изображения в файл\n",
    "    papka = fin_bukva + '\\\\'\n",
    "    name = filename.strip('.png') + '_' + fin_bukva + '.png'\n",
    "    #name = fin_bukva + '.png'\n",
    "    \n",
    "    img_new = drow_frame(x_start, x_max, y_start, y_max, filename, x_point, y_point)\n",
    "    Image.fromarray(img_new).convert(\"RGB\").save(path_png_detected + papka + name)\n",
    "    #Image.open(path_png+filename).save(path_png_detected + name)\n",
    "    \n",
    "    \n",
    "    #fig = plt.figure(figsize=(6,4))\n",
    "    #plt.imshow(image[x_point:x_point+mask_heght,y_point:y_point+mask_widht,:]) \n",
    "    #plt.show()\n",
    "    print(color.BOLD + color.RED)\n",
    "    print('ГОТОВО! Файл идентифицирован как акт: ' + color.END + color.BOLD + color.BLUE + fin_bukva + color.END, \n",
    "          color.BOLD + color.RED + 'Точность распознавания:', color.BOLD + color.BLUE + str(max_proba) + color.END) \n",
    "    #print(max_proba, fin_clas, fin_bukva, x_point, y_point)\n",
    "    print('-----------------------------------------------------------------------------------------------------------------')\n",
    "    \n",
    "    file_list.loc[row,'mask'] = fin_bukva\n",
    "    file_list.loc[row,'accuracy'] = max_proba\n",
    "\n",
    "#print(color.BOLD + color.BLUE + 'КЛАССИФИКАЦИЯ АКТОВ ЗАВЕРШЕНА!!!' + color.END) "
   ]
  },
  {
   "cell_type": "code",
   "execution_count": null,
   "id": "d528edf1",
   "metadata": {},
   "outputs": [],
   "source": [
    "print(color.BOLD + color.PURPLE + 'КЛАССИФИКАЦИЯ АКТОВ ЗАВЕРШЕНА!!! Результаты представлены в таблице.' + color.END) \n",
    "file_list"
   ]
  },
  {
   "cell_type": "code",
   "execution_count": null,
   "id": "86c58b76",
   "metadata": {},
   "outputs": [],
   "source": [
    "file_list.to_csv(path_png_detected + 'recognition_results_log.csv')"
   ]
  },
  {
   "cell_type": "markdown",
   "id": "9b0c7d95",
   "metadata": {},
   "source": [
    "# THE END!"
   ]
  },
  {
   "cell_type": "code",
   "execution_count": null,
   "id": "6c68bcbc",
   "metadata": {},
   "outputs": [],
   "source": [
    "2+2=5"
   ]
  },
  {
   "cell_type": "code",
   "execution_count": null,
   "id": "4ec90f1d",
   "metadata": {
    "scrolled": true
   },
   "outputs": [],
   "source": [
    "# проверка размера поискового фрейма\n",
    "for row in range(len(file_list['png_cor'])):\n",
    "    filename = file_list.loc[row,'png_cor']\n",
    "    print(color.BOLD + color.RED + 'Обрабатывается файл: ' + color.END + color.UNDERLINE + filename + color.END)\n",
    "    image = np.array(Image.open(path_png_cor+filename))/255\n",
    "    im_shape = image.shape\n",
    "    x_start, x_max, y_start, y_max = start_point(im_shape)\n",
    "    fig = plt.figure(figsize=(6,4))\n",
    "    plt.imshow(image[x_start:x_max, y_start:y_max,:])\n",
    "    plt.show()\n",
    "   \n",
    "    print(color.BOLD + color.RED + color.UNDERLINE + 'ГОТОВО!' + color.END) \n",
    "    print('---------------------------------------------------------------------------------------------------------')\n",
    "    \n",
    "    file_list.loc[row,'mask'] = row\n",
    "    file_list.loc[row,'accuracy'] = row"
   ]
  },
  {
   "cell_type": "code",
   "execution_count": null,
   "id": "90d1220d",
   "metadata": {},
   "outputs": [],
   "source": []
  }
 ],
 "metadata": {
  "kernelspec": {
   "display_name": "Python 3 (ipykernel)",
   "language": "python",
   "name": "python3"
  },
  "language_info": {
   "codemirror_mode": {
    "name": "ipython",
    "version": 3
   },
   "file_extension": ".py",
   "mimetype": "text/x-python",
   "name": "python",
   "nbconvert_exporter": "python",
   "pygments_lexer": "ipython3",
   "version": "3.10.6"
  },
  "toc": {
   "base_numbering": 1,
   "nav_menu": {},
   "number_sections": true,
   "sideBar": true,
   "skip_h1_title": false,
   "title_cell": "Table of Contents",
   "title_sidebar": "Contents",
   "toc_cell": false,
   "toc_position": {},
   "toc_section_display": true,
   "toc_window_display": true
  }
 },
 "nbformat": 4,
 "nbformat_minor": 5
}
