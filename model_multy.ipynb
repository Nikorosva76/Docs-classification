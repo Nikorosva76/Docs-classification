{
 "cells": [
  {
   "cell_type": "code",
   "execution_count": 1,
   "id": "f573fce7",
   "metadata": {
    "scrolled": true
   },
   "outputs": [],
   "source": [
    "import numpy as np\n",
    "import pandas as pd\n",
    "import matplotlib.pyplot as plt\n",
    "from PIL import Image\n",
    "import os\n",
    "from math import *\n",
    "\n",
    "from tensorflow.keras.models import Sequential\n",
    "from tensorflow.keras.layers import Conv2D, Flatten, Dense, Dropout, MaxPool2D, GlobalAveragePooling2D, MaxPooling2D, AveragePooling2D, AvgPool2D\n",
    "from tensorflow.keras.applications.resnet import ResNet50\n",
    "\n",
    "from tensorflow.keras.optimizers import Adam\n",
    "from tensorflow.keras.preprocessing.image import ImageDataGenerator"
   ]
  },
  {
   "cell_type": "markdown",
   "id": "507630c6",
   "metadata": {},
   "source": [
    "# Модуль распознавания "
   ]
  },
  {
   "cell_type": "code",
   "execution_count": 2,
   "id": "f597b97b",
   "metadata": {},
   "outputs": [],
   "source": [
    "main_path = \"L:\\\\АвтоСтатистика\\\\\"\n",
    "main_path = \"C:\\\\Users\\\\с\\\\Desktop\\\\\""
   ]
  },
  {
   "cell_type": "code",
   "execution_count": 3,
   "id": "d7c4e7d1",
   "metadata": {},
   "outputs": [],
   "source": [
    "#путь к train\n",
    "path_train = main_path + \"Распознавание текста\\\\text_recognising\\\\russian_shrift\\\\DOCS_masks\\\\train\\\\\"\n",
    "#путь к test\n",
    "path_test = main_path + \"Распознавание текста\\\\text_recognising\\\\russian_shrift\\\\DOCS_masks\\\\test\\\\\""
   ]
  },
  {
   "cell_type": "code",
   "execution_count": 4,
   "id": "56c68cf1",
   "metadata": {},
   "outputs": [],
   "source": [
    "resolution_x = 20\n",
    "resolution_y = 45\n",
    "batch_size =100"
   ]
  },
  {
   "cell_type": "code",
   "execution_count": 5,
   "id": "f3ff952a",
   "metadata": {},
   "outputs": [
    {
     "name": "stdout",
     "output_type": "stream",
     "text": [
      "Found 38204 images belonging to 7 classes.\n",
      "Found 12731 images belonging to 7 classes.\n"
     ]
    }
   ],
   "source": [
    "datagen = ImageDataGenerator(\n",
    "        validation_split=0.25,\n",
    "        rotation_range=2,\n",
    "        rescale=1/255)\n",
    "train_generator = datagen.flow_from_directory(\n",
    "        path_train,\n",
    "        target_size=(resolution_x, resolution_y),\n",
    "        color_mode=\"rgb\",\n",
    "        batch_size=batch_size,\n",
    "        class_mode='sparse',\n",
    "        shuffle=True,\n",
    "        subset='training',\n",
    "        seed=12345)\n",
    "validation_generator = datagen.flow_from_directory(\n",
    "        path_train,\n",
    "        target_size=(resolution_x, resolution_y),\n",
    "        color_mode=\"rgb\",\n",
    "        batch_size=batch_size,\n",
    "        class_mode='sparse',\n",
    "        shuffle=True,\n",
    "        subset='validation',\n",
    "        seed=12345)"
   ]
  },
  {
   "cell_type": "code",
   "execution_count": 6,
   "id": "c68c58d0",
   "metadata": {},
   "outputs": [
    {
     "data": {
      "text/plain": [
       "{'01B': 0, '01T': 1, '02B': 2, '02T': 3, '05B': 4, '05T': 5, 'other': 6}"
      ]
     },
     "execution_count": 6,
     "metadata": {},
     "output_type": "execute_result"
    }
   ],
   "source": [
    "train_generator.class_indices"
   ]
  },
  {
   "cell_type": "code",
   "execution_count": 7,
   "id": "fd65ab83",
   "metadata": {},
   "outputs": [],
   "source": [
    "train_features, train_target = next(train_generator)"
   ]
  },
  {
   "cell_type": "code",
   "execution_count": 8,
   "id": "00dbefbf",
   "metadata": {},
   "outputs": [
    {
     "name": "stdout",
     "output_type": "stream",
     "text": [
      "(100, 20, 45, 3)\n",
      "(100,)\n"
     ]
    }
   ],
   "source": [
    "print(train_features.shape)\n",
    "print(train_target.shape)"
   ]
  },
  {
   "cell_type": "code",
   "execution_count": 9,
   "id": "f585adee",
   "metadata": {},
   "outputs": [
    {
     "data": {
      "text/plain": [
       "<matplotlib.image.AxesImage at 0x28c65beb6d0>"
      ]
     },
     "execution_count": 9,
     "metadata": {},
     "output_type": "execute_result"
    },
    {
     "data": {
      "image/png": "[encoded data removed]",
      "text/plain": [
       "<Figure size 432x288 with 1 Axes>"
      ]
     },
     "metadata": {
      "needs_background": "light"
     },
     "output_type": "display_data"
    }
   ],
   "source": [
    "plt.imshow(train_features[15,:,:,:])"
   ]
  },
  {
   "cell_type": "code",
   "execution_count": 10,
   "id": "dba89208",
   "metadata": {},
   "outputs": [
    {
     "data": {
      "text/plain": [
       "{'01B': 0, '01T': 1, '02B': 2, '02T': 3, '05B': 4, '05T': 5, 'other': 6}"
      ]
     },
     "execution_count": 10,
     "metadata": {},
     "output_type": "execute_result"
    }
   ],
   "source": [
    "validation_generator.class_indices"
   ]
  },
  {
   "cell_type": "code",
   "execution_count": 11,
   "id": "6df5e749",
   "metadata": {},
   "outputs": [],
   "source": [
    "val_features, val_target = next(validation_generator)"
   ]
  },
  {
   "cell_type": "code",
   "execution_count": 12,
   "id": "2fd87416",
   "metadata": {},
   "outputs": [
    {
     "name": "stdout",
     "output_type": "stream",
     "text": [
      "(100, 20, 45, 3)\n",
      "(100,)\n"
     ]
    }
   ],
   "source": [
    "print(val_features.shape)\n",
    "print(val_target.shape)"
   ]
  },
  {
   "cell_type": "code",
   "execution_count": 13,
   "id": "6596dcc9",
   "metadata": {},
   "outputs": [
    {
     "data": {
      "text/plain": [
       "{0: '01B', 1: '01T', 2: '02B', 3: '02T', 4: '05B', 5: '05T', 6: 'other'}"
      ]
     },
     "execution_count": 13,
     "metadata": {},
     "output_type": "execute_result"
    }
   ],
   "source": [
    "alfabet1 = train_generator.class_indices\n",
    "alfabet= {v:k for k, v in alfabet1.items()}\n",
    "alfabet"
   ]
  },
  {
   "cell_type": "markdown",
   "id": "e3367655",
   "metadata": {},
   "source": [
    "## MODEL0"
   ]
  },
  {
   "cell_type": "code",
   "execution_count": 14,
   "id": "8a40f39e",
   "metadata": {},
   "outputs": [
    {
     "name": "stdout",
     "output_type": "stream",
     "text": [
      "Model: \"sequential\"\n",
      "_________________________________________________________________\n",
      " Layer (type)                Output Shape              Param #   \n",
      "=================================================================\n",
      " conv2d (Conv2D)             (None, 18, 43, 120)       3360      \n",
      "                                                                 \n",
      " max_pooling2d (MaxPooling2D  (None, 9, 21, 120)       0         \n",
      " )                                                               \n",
      "                                                                 \n",
      " conv2d_1 (Conv2D)           (None, 7, 19, 60)         64860     \n",
      "                                                                 \n",
      " max_pooling2d_1 (MaxPooling  (None, 3, 9, 60)         0         \n",
      " 2D)                                                             \n",
      "                                                                 \n",
      " conv2d_2 (Conv2D)           (None, 3, 9, 60)          32460     \n",
      "                                                                 \n",
      " max_pooling2d_2 (MaxPooling  (None, 1, 4, 60)         0         \n",
      " 2D)                                                             \n",
      "                                                                 \n",
      " flatten (Flatten)           (None, 240)               0         \n",
      "                                                                 \n",
      " dense (Dense)               (None, 7)                 1687      \n",
      "                                                                 \n",
      "=================================================================\n",
      "Total params: 102,367\n",
      "Trainable params: 102,367\n",
      "Non-trainable params: 0\n",
      "_________________________________________________________________\n"
     ]
    }
   ],
   "source": [
    "optimizer =Adam(learning_rate=0.0005)\n",
    "model0 = Sequential()\n",
    "\n",
    "model0.add(Conv2D(filters=120,\n",
    "                 kernel_size=(3,3),\n",
    "                 activation='relu',\n",
    "                 input_shape=(resolution_x, resolution_y, 3)))\n",
    "model0.add(MaxPooling2D(pool_size=(2,2)))\n",
    "\n",
    "model0.add(Conv2D(filters=60, kernel_size=(3,3), activation='relu'))\n",
    "model0.add(MaxPooling2D(pool_size=(2,2)))\n",
    "\n",
    "model0.add(Conv2D(filters=60, kernel_size=(3,3), activation='relu', padding ='same'))\n",
    "model0.add(MaxPooling2D(pool_size=(2,2)))\n",
    "\n",
    "#model0.add(Conv2D(filters=60, kernel_size=(3,3), activation='relu', padding ='same'))\n",
    "#model0.add(MaxPooling2D(pool_size=(2,2)))\n",
    "\n",
    "model0.add(Flatten())\n",
    "\n",
    "model0.add(Dense(units=len(train_generator.class_indices), activation='softmax'))\n",
    "   \n",
    "model0.compile(loss='sparse_categorical_crossentropy', optimizer=optimizer, metrics=['acc'])\n",
    "\n",
    "model0.summary()"
   ]
  },
  {
   "cell_type": "markdown",
   "id": "42753bae",
   "metadata": {},
   "source": [
    "## MODEL1"
   ]
  },
  {
   "cell_type": "code",
   "execution_count": 18,
   "id": "2dc0745b",
   "metadata": {},
   "outputs": [
    {
     "name": "stdout",
     "output_type": "stream",
     "text": [
      "Model: \"sequential_3\"\n",
      "_________________________________________________________________\n",
      " Layer (type)                Output Shape              Param #   \n",
      "=================================================================\n",
      " conv2d_10 (Conv2D)          (None, 18, 43, 120)       3360      \n",
      "                                                                 \n",
      " max_pooling2d_11 (MaxPoolin  (None, 9, 21, 120)       0         \n",
      " g2D)                                                            \n",
      "                                                                 \n",
      " conv2d_11 (Conv2D)          (None, 7, 19, 60)         64860     \n",
      "                                                                 \n",
      " max_pooling2d_12 (MaxPoolin  (None, 3, 9, 60)         0         \n",
      " g2D)                                                            \n",
      "                                                                 \n",
      " flatten_1 (Flatten)         (None, 1620)              0         \n",
      "                                                                 \n",
      " dense_1 (Dense)             (None, 7)                 11347     \n",
      "                                                                 \n",
      "=================================================================\n",
      "Total params: 79,567\n",
      "Trainable params: 79,567\n",
      "Non-trainable params: 0\n",
      "_________________________________________________________________\n"
     ]
    }
   ],
   "source": [
    "optimizer =Adam(learning_rate=0.0005)\n",
    "model1 = Sequential()\n",
    "\n",
    "model1.add(Conv2D(filters=120,\n",
    "                 kernel_size=(3,3),\n",
    "                 activation='relu',\n",
    "                 input_shape=(resolution_x, resolution_y, 3)))\n",
    "model1.add(MaxPooling2D(pool_size=(2,2)))\n",
    "\n",
    "model1.add(Conv2D(filters=60, kernel_size=(3,3), activation='relu'))\n",
    "model1.add(MaxPooling2D(pool_size=(2,2)))\n",
    "\n",
    "#model1.add(Conv2D(filters=60, kernel_size=(3,3), activation='relu', padding ='same'))\n",
    "#model1.add(MaxPooling2D(pool_size=(2,2)))\n",
    "\n",
    "#model1.add(Conv2D(filters=60, kernel_size=(3,3), activation='relu', padding ='same'))\n",
    "#model1.add(MaxPooling2D(pool_size=(2,2)))\n",
    "\n",
    "model1.add(Flatten())\n",
    "\n",
    "model1.add(Dense(units=len(train_generator.class_indices), activation='softmax'))\n",
    "   \n",
    "model1.compile(loss='sparse_categorical_crossentropy', optimizer=optimizer, metrics=['acc'])\n",
    "\n",
    "model1.summary()"
   ]
  },
  {
   "cell_type": "markdown",
   "id": "fc7b25f0",
   "metadata": {},
   "source": [
    "## MODEL 2 SPBGU"
   ]
  },
  {
   "cell_type": "code",
   "execution_count": 19,
   "id": "e05341e6",
   "metadata": {},
   "outputs": [
    {
     "name": "stdout",
     "output_type": "stream",
     "text": [
      "Model: \"sequential_4\"\n",
      "_________________________________________________________________\n",
      " Layer (type)                Output Shape              Param #   \n",
      "=================================================================\n",
      " conv2d_12 (Conv2D)          (None, 20, 45, 16)        448       \n",
      "                                                                 \n",
      " conv2d_13 (Conv2D)          (None, 18, 43, 16)        2320      \n",
      "                                                                 \n",
      " max_pooling2d_13 (MaxPoolin  (None, 9, 21, 16)        0         \n",
      " g2D)                                                            \n",
      "                                                                 \n",
      " dropout (Dropout)           (None, 9, 21, 16)         0         \n",
      "                                                                 \n",
      " conv2d_14 (Conv2D)          (None, 9, 21, 32)         4640      \n",
      "                                                                 \n",
      " conv2d_15 (Conv2D)          (None, 7, 19, 64)         18496     \n",
      "                                                                 \n",
      " max_pooling2d_14 (MaxPoolin  (None, 3, 9, 64)         0         \n",
      " g2D)                                                            \n",
      "                                                                 \n",
      " dropout_1 (Dropout)         (None, 3, 9, 64)          0         \n",
      "                                                                 \n",
      " flatten_2 (Flatten)         (None, 1728)              0         \n",
      "                                                                 \n",
      " dense_2 (Dense)             (None, 1024)              1770496   \n",
      "                                                                 \n",
      " dense_3 (Dense)             (None, 512)               524800    \n",
      "                                                                 \n",
      " dense_4 (Dense)             (None, 33)                16929     \n",
      "                                                                 \n",
      " dense_5 (Dense)             (None, 7)                 238       \n",
      "                                                                 \n",
      "=================================================================\n",
      "Total params: 2,338,367\n",
      "Trainable params: 2,338,367\n",
      "Non-trainable params: 0\n",
      "_________________________________________________________________\n"
     ]
    }
   ],
   "source": [
    "optimizer =Adam(learning_rate=0.0005)\n",
    "model2 = Sequential()\n",
    "\n",
    "model2.add(Conv2D(16, (3, 3), padding='same', \n",
    "                 input_shape=(resolution_x, resolution_y, 3), activation='relu'))\n",
    "model2.add(Conv2D(16, (3, 3), activation='relu'))\n",
    "\n",
    "model2.add(MaxPooling2D(pool_size=(2,2)))\n",
    "model2.add(Dropout(0.1))\n",
    "\n",
    "model2.add(Conv2D(32, (3, 3), padding='same', activation='relu'))\n",
    "model2.add(Conv2D(64, (3, 3), activation='relu'))\n",
    "\n",
    "model2.add(MaxPooling2D(pool_size=(2,2)))\n",
    "model2.add(Dropout(0.3))\n",
    "\n",
    "#model2.add(Conv2D(128, (3, 3), padding='same', activation='relu'))\n",
    "#model2.add(Conv2D(128, (3, 3), activation='relu'))\n",
    "\n",
    "#model2.add(MaxPooling2D(pool_size=(2,2)))\n",
    "#model2.add(Dropout(0.5))\n",
    "\n",
    "model2.add(Flatten())\n",
    "model2.add(Dense(1024, activation='relu'))\n",
    "model2.add(Dense(512, activation='relu'))\n",
    "model2.add(Dense(33, activation='relu'))\n",
    "model2.add(Dense(units=len(train_generator.class_indices), activation='softmax'))\n",
    "\n",
    "model2.compile(loss='sparse_categorical_crossentropy', optimizer=optimizer, metrics=['acc'])\n",
    "\n",
    "model2.summary()"
   ]
  },
  {
   "cell_type": "markdown",
   "id": "02d58965",
   "metadata": {},
   "source": [
    "## LEARNING"
   ]
  },
  {
   "cell_type": "code",
   "execution_count": 20,
   "id": "c5ba7af4",
   "metadata": {},
   "outputs": [
    {
     "data": {
      "text/plain": [
       "<keras.callbacks.History at 0x28c65756290>"
      ]
     },
     "execution_count": 20,
     "metadata": {},
     "output_type": "execute_result"
    }
   ],
   "source": [
    "model=model2\n",
    "model.fit(train_generator, \n",
    "           validation_data=validation_generator,\n",
    "           steps_per_epoch=10,\n",
    "           validation_steps=5,\n",
    "           verbose=0,#2,\n",
    "           shuffle=True,\n",
    "           epochs=70)"
   ]
  },
  {
   "cell_type": "code",
   "execution_count": 21,
   "id": "d87e7ab7",
   "metadata": {},
   "outputs": [],
   "source": [
    "model_path = main_path + \"Распознавание текста\\\\text_recognising\\\\russian_shrift\\\\models\\\\\"    "
   ]
  },
  {
   "cell_type": "code",
   "execution_count": 22,
   "id": "2aa73935",
   "metadata": {},
   "outputs": [],
   "source": [
    "from datetime import datetime\n",
    "current_datetime = datetime.now()\n",
    "date = '_' + str(current_datetime.day)+'_' + str(current_datetime.month)"
   ]
  },
  {
   "cell_type": "code",
   "execution_count": 23,
   "id": "e974f290",
   "metadata": {},
   "outputs": [
    {
     "name": "stdout",
     "output_type": "stream",
     "text": [
      "Saved model to disk\n"
     ]
    }
   ],
   "source": [
    "# serialize model to JSON\n",
    "num = '_multy_'+ str(2)\n",
    "model_name_json = \"actual_model\" + \"_\" + num+ date +\".json\"\n",
    "model_name_h5 = \"actual_model\" + \"_\" + num + date + \".h5\"\n",
    "\n",
    "model_json = model.to_json()\n",
    "with open(model_path + model_name_json, \"w\") as json_file:\n",
    "    json_file.write(model_json)\n",
    "\n",
    "# serialize weights to HDF5\n",
    "model.save_weights(model_path + model_name_h5)\n",
    "print(\"Saved model to disk\")"
   ]
  },
  {
   "cell_type": "markdown",
   "id": "ad914f5c",
   "metadata": {},
   "source": [
    "## VALIDATION"
   ]
  },
  {
   "cell_type": "code",
   "execution_count": 24,
   "id": "2b47819a",
   "metadata": {},
   "outputs": [
    {
     "name": "stdout",
     "output_type": "stream",
     "text": [
      "-------------------------------------------------------------------------------\n",
      "    Буква Класс Расп. буква Расп. класс Вероятность,%  Точность\n",
      "0   other     6       other           6           1.0         1\n",
      "1   other     6       other           6           1.0         1\n",
      "2   other     6       other           6           1.0         1\n",
      "3   other     6       other           6           1.0         1\n",
      "4   other     6       other           6           1.0         1\n",
      "..    ...   ...         ...         ...           ...       ...\n",
      "95  other     6       other           6           1.0         1\n",
      "96  other     6       other           6           1.0         1\n",
      "97  other     6       other           6           1.0         1\n",
      "98  other     6       other           6           1.0         1\n",
      "99  other     6       other           6           1.0         1\n",
      "\n",
      "[100 rows x 6 columns]\n",
      "-------------------------------------------------------------------------------\n",
      "ТОЧНОСТЬ: 1.0\n"
     ]
    }
   ],
   "source": [
    "#шаблон таблицы результатов\n",
    "result = pd.DataFrame(index=range(batch_size), \n",
    "                      columns=['Буква', 'Класс', 'Расп. буква', 'Расп. класс', 'Вероятность,%'])\n",
    "#result.head()\n",
    "\n",
    "#предсказания на валидации\n",
    "val = model.predict(val_features).round(2)\n",
    "val = pd.DataFrame(val.T)\n",
    "#val.head(33)\n",
    "\n",
    "# заполнение результатов\n",
    "for col in range(batch_size):\n",
    "    result.loc[col, 'Вероятность,%'] = val.loc[:,col].max()\n",
    "    result.loc[col, 'Расп. класс'] = val.loc[:,col].idxmax()\n",
    "    result.loc[col, 'Расп. буква'] = alfabet[val.loc[:,col].idxmax()]\n",
    "    result.loc[col, 'Класс'] = int(val_target[col])\n",
    "    result.loc[col, 'Буква'] = alfabet[val_target[col]]\n",
    "    result.loc[col, 'Буква'] = alfabet[val_target[col]]\n",
    "result['Точность'] = result.apply(lambda x: 1 if x['Класс']==x['Расп. класс'] else 0, axis=1) \n",
    "print('-------------------------------------------------------------------------------')\n",
    "print(result)\n",
    "print('-------------------------------------------------------------------------------')\n",
    "print('ТОЧНОСТЬ:',result['Точность'].mean())"
   ]
  },
  {
   "cell_type": "code",
   "execution_count": 25,
   "id": "91c4bb01",
   "metadata": {},
   "outputs": [
    {
     "data": {
      "text/plain": [
       "Буква\n",
       "other    1.0\n",
       "Name: Точность, dtype: float64"
      ]
     },
     "execution_count": 25,
     "metadata": {},
     "output_type": "execute_result"
    }
   ],
   "source": [
    "result.groupby('Буква')['Точность'].mean().round(2)"
   ]
  },
  {
   "cell_type": "code",
   "execution_count": 26,
   "id": "df52d666",
   "metadata": {},
   "outputs": [
    {
     "name": "stdout",
     "output_type": "stream",
     "text": [
      "(20, 45, 3)\n"
     ]
    },
    {
     "data": {
      "image/png": "[encoded data removed]",
      "text/plain": [
       "<Figure size 216x216 with 1 Axes>"
      ]
     },
     "metadata": {
      "needs_background": "light"
     },
     "output_type": "display_data"
    },
    {
     "name": "stdout",
     "output_type": "stream",
     "text": [
      "(1, 20, 45, 3)\n",
      "Predicted class: 6\n",
      "Predicted probability: 1.0\n",
      "Predicted char: other\n",
      "(20, 45, 3)\n"
     ]
    },
    {
     "data": {
      "image/png": "[encoded data removed]",
      "text/plain": [
       "<Figure size 216x216 with 1 Axes>"
      ]
     },
     "metadata": {
      "needs_background": "light"
     },
     "output_type": "display_data"
    },
    {
     "name": "stdout",
     "output_type": "stream",
     "text": [
      "(1, 20, 45, 3)\n",
      "Predicted class: 6\n",
      "Predicted probability: 1.0\n",
      "Predicted char: other\n",
      "(20, 45, 3)\n"
     ]
    },
    {
     "data": {
      "image/png": "[encoded data removed]",
      "text/plain": [
       "<Figure size 216x216 with 1 Axes>"
      ]
     },
     "metadata": {
      "needs_background": "light"
     },
     "output_type": "display_data"
    },
    {
     "name": "stdout",
     "output_type": "stream",
     "text": [
      "(1, 20, 45, 3)\n",
      "Predicted class: 6\n",
      "Predicted probability: 1.0\n",
      "Predicted char: other\n",
      "(20, 45, 3)\n"
     ]
    },
    {
     "data": {
      "image/png": "[encoded data removed]",
      "text/plain": [
       "<Figure size 216x216 with 1 Axes>"
      ]
     },
     "metadata": {
      "needs_background": "light"
     },
     "output_type": "display_data"
    },
    {
     "name": "stdout",
     "output_type": "stream",
     "text": [
      "(1, 20, 45, 3)\n",
      "Predicted class: 6\n",
      "Predicted probability: 1.0\n",
      "Predicted char: other\n",
      "(20, 45, 3)\n"
     ]
    },
    {
     "data": {
      "image/png": "[encoded data removed]",
      "text/plain": [
       "<Figure size 216x216 with 1 Axes>"
      ]
     },
     "metadata": {
      "needs_background": "light"
     },
     "output_type": "display_data"
    },
    {
     "name": "stdout",
     "output_type": "stream",
     "text": [
      "(1, 20, 45, 3)\n",
      "Predicted class: 6\n",
      "Predicted probability: 1.0\n",
      "Predicted char: other\n",
      "(20, 45, 3)\n"
     ]
    },
    {
     "data": {
      "image/png": "[encoded data removed]",
      "text/plain": [
       "<Figure size 216x216 with 1 Axes>"
      ]
     },
     "metadata": {
      "needs_background": "light"
     },
     "output_type": "display_data"
    },
    {
     "name": "stdout",
     "output_type": "stream",
     "text": [
      "(1, 20, 45, 3)\n",
      "Predicted class: 6\n",
      "Predicted probability: 1.0\n",
      "Predicted char: other\n",
      "(20, 45, 3)\n"
     ]
    },
    {
     "data": {
      "image/png": "[encoded data removed]",
      "text/plain": [
       "<Figure size 216x216 with 1 Axes>"
      ]
     },
     "metadata": {
      "needs_background": "light"
     },
     "output_type": "display_data"
    },
    {
     "name": "stdout",
     "output_type": "stream",
     "text": [
      "(1, 20, 45, 3)\n",
      "Predicted class: 6\n",
      "Predicted probability: 1.0\n",
      "Predicted char: other\n",
      "(20, 45, 3)\n"
     ]
    },
    {
     "data": {
      "image/png": "[encoded data removed]",
      "text/plain": [
       "<Figure size 216x216 with 1 Axes>"
      ]
     },
     "metadata": {
      "needs_background": "light"
     },
     "output_type": "display_data"
    },
    {
     "name": "stdout",
     "output_type": "stream",
     "text": [
      "(1, 20, 45, 3)\n",
      "Predicted class: 6\n",
      "Predicted probability: 1.0\n",
      "Predicted char: other\n",
      "(20, 45, 3)\n"
     ]
    },
    {
     "data": {
      "image/png": "[encoded data removed]",
      "text/plain": [
       "<Figure size 216x216 with 1 Axes>"
      ]
     },
     "metadata": {
      "needs_background": "light"
     },
     "output_type": "display_data"
    },
    {
     "name": "stdout",
     "output_type": "stream",
     "text": [
      "(1, 20, 45, 3)\n",
      "Predicted class: 6\n",
      "Predicted probability: 1.0\n",
      "Predicted char: other\n",
      "(20, 45, 3)\n"
     ]
    },
    {
     "data": {
      "image/png": "[encoded data removed]",
      "text/plain": [
       "<Figure size 216x216 with 1 Axes>"
      ]
     },
     "metadata": {
      "needs_background": "light"
     },
     "output_type": "display_data"
    },
    {
     "name": "stdout",
     "output_type": "stream",
     "text": [
      "(1, 20, 45, 3)\n",
      "Predicted class: 6\n",
      "Predicted probability: 1.0\n",
      "Predicted char: other\n",
      "(20, 45, 3)\n"
     ]
    },
    {
     "data": {
      "image/png": "[encoded data removed]",
      "text/plain": [
       "<Figure size 216x216 with 1 Axes>"
      ]
     },
     "metadata": {
      "needs_background": "light"
     },
     "output_type": "display_data"
    },
    {
     "name": "stdout",
     "output_type": "stream",
     "text": [
      "(1, 20, 45, 3)\n",
      "Predicted class: 6\n",
      "Predicted probability: 1.0\n",
      "Predicted char: other\n",
      "(20, 45, 3)\n"
     ]
    },
    {
     "data": {
      "image/png": "[encoded data removed]",
      "text/plain": [
       "<Figure size 216x216 with 1 Axes>"
      ]
     },
     "metadata": {
      "needs_background": "light"
     },
     "output_type": "display_data"
    },
    {
     "name": "stdout",
     "output_type": "stream",
     "text": [
      "(1, 20, 45, 3)\n",
      "Predicted class: 6\n",
      "Predicted probability: 1.0\n",
      "Predicted char: other\n",
      "(20, 45, 3)\n"
     ]
    },
    {
     "data": {
      "image/png": "[encoded data removed]",
      "text/plain": [
       "<Figure size 216x216 with 1 Axes>"
      ]
     },
     "metadata": {
      "needs_background": "light"
     },
     "output_type": "display_data"
    },
    {
     "name": "stdout",
     "output_type": "stream",
     "text": [
      "(1, 20, 45, 3)\n",
      "Predicted class: 6\n",
      "Predicted probability: 1.0\n",
      "Predicted char: other\n",
      "(20, 45, 3)\n"
     ]
    },
    {
     "data": {
      "image/png": "[encoded data removed]",
      "text/plain": [
       "<Figure size 216x216 with 1 Axes>"
      ]
     },
     "metadata": {
      "needs_background": "light"
     },
     "output_type": "display_data"
    },
    {
     "name": "stdout",
     "output_type": "stream",
     "text": [
      "(1, 20, 45, 3)\n",
      "Predicted class: 6\n",
      "Predicted probability: 1.0\n",
      "Predicted char: other\n",
      "(20, 45, 3)\n"
     ]
    },
    {
     "data": {
      "image/png": "[encoded data removed]",
      "text/plain": [
       "<Figure size 216x216 with 1 Axes>"
      ]
     },
     "metadata": {
      "needs_background": "light"
     },
     "output_type": "display_data"
    },
    {
     "name": "stdout",
     "output_type": "stream",
     "text": [
      "(1, 20, 45, 3)\n",
      "Predicted class: 6\n",
      "Predicted probability: 1.0\n",
      "Predicted char: other\n",
      "(20, 45, 3)\n"
     ]
    },
    {
     "data": {
      "image/png": "[encoded data removed]",
      "text/plain": [
       "<Figure size 216x216 with 1 Axes>"
      ]
     },
     "metadata": {
      "needs_background": "light"
     },
     "output_type": "display_data"
    },
    {
     "name": "stdout",
     "output_type": "stream",
     "text": [
      "(1, 20, 45, 3)\n",
      "Predicted class: 6\n",
      "Predicted probability: 1.0\n",
      "Predicted char: other\n",
      "(20, 45, 3)\n"
     ]
    },
    {
     "data": {
      "image/png": "[encoded data removed]",
      "text/plain": [
       "<Figure size 216x216 with 1 Axes>"
      ]
     },
     "metadata": {
      "needs_background": "light"
     },
     "output_type": "display_data"
    },
    {
     "name": "stdout",
     "output_type": "stream",
     "text": [
      "(1, 20, 45, 3)\n",
      "Predicted class: 6\n",
      "Predicted probability: 1.0\n",
      "Predicted char: other\n",
      "(20, 45, 3)\n"
     ]
    },
    {
     "data": {
      "image/png": "[encoded data removed]",
      "text/plain": [
       "<Figure size 216x216 with 1 Axes>"
      ]
     },
     "metadata": {
      "needs_background": "light"
     },
     "output_type": "display_data"
    },
    {
     "name": "stdout",
     "output_type": "stream",
     "text": [
      "(1, 20, 45, 3)\n",
      "Predicted class: 6\n",
      "Predicted probability: 1.0\n",
      "Predicted char: other\n",
      "(20, 45, 3)\n"
     ]
    },
    {
     "data": {
      "image/png": "[encoded data removed]",
      "text/plain": [
       "<Figure size 216x216 with 1 Axes>"
      ]
     },
     "metadata": {
      "needs_background": "light"
     },
     "output_type": "display_data"
    },
    {
     "name": "stdout",
     "output_type": "stream",
     "text": [
      "(1, 20, 45, 3)\n",
      "Predicted class: 6\n",
      "Predicted probability: 1.0\n",
      "Predicted char: other\n",
      "(20, 45, 3)\n"
     ]
    },
    {
     "data": {
      "image/png": "[encoded data removed]",
      "text/plain": [
       "<Figure size 216x216 with 1 Axes>"
      ]
     },
     "metadata": {
      "needs_background": "light"
     },
     "output_type": "display_data"
    },
    {
     "name": "stdout",
     "output_type": "stream",
     "text": [
      "(1, 20, 45, 3)\n",
      "Predicted class: 6\n",
      "Predicted probability: 1.0\n",
      "Predicted char: other\n",
      "(20, 45, 3)\n"
     ]
    },
    {
     "data": {
      "image/png": "[encoded data removed]",
      "text/plain": [
       "<Figure size 216x216 with 1 Axes>"
      ]
     },
     "metadata": {
      "needs_background": "light"
     },
     "output_type": "display_data"
    },
    {
     "name": "stdout",
     "output_type": "stream",
     "text": [
      "(1, 20, 45, 3)\n",
      "Predicted class: 6\n",
      "Predicted probability: 1.0\n",
      "Predicted char: other\n"
     ]
    }
   ],
   "source": [
    "#predict = model.predict(val_features).round(2)\n",
    "for i in np.random.randint(1,len(val_features),size=21):\n",
    "    \n",
    "    img = val_features[i,:,:,:]\n",
    "    print(img.shape)  \n",
    "    fig = plt.figure(figsize=(3,3))\n",
    "    plt.imshow(img)\n",
    "    plt.show()\n",
    "    \n",
    "    img1 = img.reshape(1, resolution_x, resolution_y, 3)\n",
    "    print(img1.shape)\n",
    "    predict = model.predict(img1).round(2)\n",
    "    table=pd.DataFrame(predict[0])\n",
    "    pred_class = int(table.idxmax())\n",
    "    pred_proba = table.loc[pred_class].max()\n",
    "    pred_char = alfabet[int(table.idxmax())]\n",
    "    \n",
    "    print('Predicted class:', pred_class)\n",
    "    print('Predicted probability:', pred_proba)\n",
    "    print('Predicted char:', pred_char)"
   ]
  },
  {
   "cell_type": "markdown",
   "id": "83433056",
   "metadata": {},
   "source": [
    "## TEST"
   ]
  },
  {
   "cell_type": "code",
   "execution_count": 27,
   "id": "65fc3597",
   "metadata": {},
   "outputs": [],
   "source": [
    "batch_size = 100"
   ]
  },
  {
   "cell_type": "code",
   "execution_count": 28,
   "id": "4c2a9324",
   "metadata": {},
   "outputs": [
    {
     "name": "stdout",
     "output_type": "stream",
     "text": [
      "Found 744 images belonging to 7 classes.\n"
     ]
    }
   ],
   "source": [
    "datagen = ImageDataGenerator(rescale=1/255)\n",
    "test_generator = datagen.flow_from_directory(\n",
    "        path_test,\n",
    "        target_size=(resolution_x, resolution_y),\n",
    "        color_mode=\"rgb\",\n",
    "        batch_size=batch_size,\n",
    "        class_mode='sparse',\n",
    "        shuffle = True,\n",
    "        seed=12345)"
   ]
  },
  {
   "cell_type": "code",
   "execution_count": 29,
   "id": "200cc0f2",
   "metadata": {},
   "outputs": [],
   "source": [
    "test_features, test_target = next(test_generator)"
   ]
  },
  {
   "cell_type": "code",
   "execution_count": 30,
   "id": "f13dfdd2",
   "metadata": {},
   "outputs": [
    {
     "name": "stdout",
     "output_type": "stream",
     "text": [
      "(100, 20, 45, 3)\n",
      "(100,)\n"
     ]
    }
   ],
   "source": [
    "print(test_features.shape)\n",
    "print(test_target.shape)"
   ]
  },
  {
   "cell_type": "code",
   "execution_count": 31,
   "id": "57ee75a3",
   "metadata": {},
   "outputs": [
    {
     "name": "stdout",
     "output_type": "stream",
     "text": [
      "-------------------------------------------------------------------------------\n",
      "    Буква Класс Расп. буква Расп. класс Вероятность,%  Точность\n",
      "0   other     6       other           6           1.0         1\n",
      "1   other     6       other           6           1.0         1\n",
      "2   other     6       other           6           1.0         1\n",
      "3   other     6       other           6           1.0         1\n",
      "4   other     6         02T           3           1.0         0\n",
      "..    ...   ...         ...         ...           ...       ...\n",
      "95  other     6         01T           1          0.96         0\n",
      "96  other     6         05B           4           1.0         0\n",
      "97  other     6       other           6           1.0         1\n",
      "98  other     6       other           6           1.0         1\n",
      "99  other     6       other           6           1.0         1\n",
      "\n",
      "[100 rows x 6 columns]\n",
      "-------------------------------------------------------------------------------\n",
      "ТОЧНОСТЬ: 0.72\n"
     ]
    }
   ],
   "source": [
    "result = pd.DataFrame(index=range(batch_size), \n",
    "                      columns=['Буква', 'Класс', 'Расп. буква', 'Расп. класс', 'Вероятность,%'])\n",
    "#result.head()\n",
    "\n",
    "#предсказания на валидации\n",
    "val = model.predict(test_features).round(2)\n",
    "val = pd.DataFrame(val.T)\n",
    "#val.head(33)\n",
    "# заполнение результатов\n",
    "for col in range(batch_size):\n",
    "    result.loc[col, 'Вероятность,%'] = val.loc[:,col].max()\n",
    "    result.loc[col, 'Расп. класс'] = val.loc[:,col].idxmax()\n",
    "    result.loc[col, 'Расп. буква'] = alfabet[val.loc[:,col].idxmax()]\n",
    "    result.loc[col, 'Класс'] = int(val_target[col])\n",
    "    result.loc[col, 'Буква'] = alfabet[val_target[col]]\n",
    "    result.loc[col, 'Буква'] = alfabet[val_target[col]]\n",
    "result['Точность'] = result.apply(lambda x: 1 if x['Класс']==x['Расп. класс'] else 0, axis=1) \n",
    "print('-------------------------------------------------------------------------------')\n",
    "print(result)\n",
    "print('-------------------------------------------------------------------------------')\n",
    "print('ТОЧНОСТЬ:',result['Точность'].mean())"
   ]
  },
  {
   "cell_type": "code",
   "execution_count": 32,
   "id": "4a5994df",
   "metadata": {},
   "outputs": [
    {
     "data": {
      "text/plain": [
       "Буква\n",
       "other    0.72\n",
       "Name: Точность, dtype: float64"
      ]
     },
     "execution_count": 32,
     "metadata": {},
     "output_type": "execute_result"
    }
   ],
   "source": [
    "result.groupby('Буква')['Точность'].mean().round(2)"
   ]
  },
  {
   "cell_type": "code",
   "execution_count": 33,
   "id": "ba75fcd3",
   "metadata": {
    "scrolled": false
   },
   "outputs": [
    {
     "data": {
      "image/png": "[encoded data removed]",
      "text/plain": [
       "<Figure size 864x144 with 1 Axes>"
      ]
     },
     "metadata": {
      "needs_background": "light"
     },
     "output_type": "display_data"
    },
    {
     "name": "stdout",
     "output_type": "stream",
     "text": [
      "Predicted class: 6\n",
      "Predicted probability: 1.0\n",
      "Predicted char: other\n"
     ]
    },
    {
     "data": {
      "image/png": "[encoded data removed]",
      "text/plain": [
       "<Figure size 864x144 with 1 Axes>"
      ]
     },
     "metadata": {
      "needs_background": "light"
     },
     "output_type": "display_data"
    },
    {
     "name": "stdout",
     "output_type": "stream",
     "text": [
      "Predicted class: 6\n",
      "Predicted probability: 1.0\n",
      "Predicted char: other\n"
     ]
    },
    {
     "data": {
      "image/png": "[encoded data removed]",
      "text/plain": [
       "<Figure size 864x144 with 1 Axes>"
      ]
     },
     "metadata": {
      "needs_background": "light"
     },
     "output_type": "display_data"
    },
    {
     "name": "stdout",
     "output_type": "stream",
     "text": [
      "Predicted class: 6\n",
      "Predicted probability: 1.0\n",
      "Predicted char: other\n"
     ]
    },
    {
     "data": {
      "image/png": "[encoded data removed]",
      "text/plain": [
       "<Figure size 864x144 with 1 Axes>"
      ]
     },
     "metadata": {
      "needs_background": "light"
     },
     "output_type": "display_data"
    },
    {
     "name": "stdout",
     "output_type": "stream",
     "text": [
      "Predicted class: 6\n",
      "Predicted probability: 1.0\n",
      "Predicted char: other\n"
     ]
    },
    {
     "data": {
      "image/png": "[encoded data removed]",
      "text/plain": [
       "<Figure size 864x144 with 1 Axes>"
      ]
     },
     "metadata": {
      "needs_background": "light"
     },
     "output_type": "display_data"
    },
    {
     "name": "stdout",
     "output_type": "stream",
     "text": [
      "Predicted class: 6\n",
      "Predicted probability: 1.0\n",
      "Predicted char: other\n"
     ]
    },
    {
     "data": {
      "image/png": "[encoded data removed]",
      "text/plain": [
       "<Figure size 864x144 with 1 Axes>"
      ]
     },
     "metadata": {
      "needs_background": "light"
     },
     "output_type": "display_data"
    },
    {
     "name": "stdout",
     "output_type": "stream",
     "text": [
      "Predicted class: 6\n",
      "Predicted probability: 1.0\n",
      "Predicted char: other\n"
     ]
    },
    {
     "data": {
      "image/png": "[encoded data removed]",
      "text/plain": [
       "<Figure size 864x144 with 1 Axes>"
      ]
     },
     "metadata": {
      "needs_background": "light"
     },
     "output_type": "display_data"
    },
    {
     "name": "stdout",
     "output_type": "stream",
     "text": [
      "Predicted class: 3\n",
      "Predicted probability: 1.0\n",
      "Predicted char: 02T\n"
     ]
    },
    {
     "data": {
      "image/png": "[encoded data removed]",
      "text/plain": [
       "<Figure size 864x144 with 1 Axes>"
      ]
     },
     "metadata": {
      "needs_background": "light"
     },
     "output_type": "display_data"
    },
    {
     "name": "stdout",
     "output_type": "stream",
     "text": [
      "Predicted class: 6\n",
      "Predicted probability: 1.0\n",
      "Predicted char: other\n"
     ]
    },
    {
     "data": {
      "image/png": "[encoded data removed]",
      "text/plain": [
       "<Figure size 864x144 with 1 Axes>"
      ]
     },
     "metadata": {
      "needs_background": "light"
     },
     "output_type": "display_data"
    },
    {
     "name": "stdout",
     "output_type": "stream",
     "text": [
      "Predicted class: 6\n",
      "Predicted probability: 1.0\n",
      "Predicted char: other\n"
     ]
    },
    {
     "data": {
      "image/png": "[encoded data removed]",
      "text/plain": [
       "<Figure size 864x144 with 1 Axes>"
      ]
     },
     "metadata": {
      "needs_background": "light"
     },
     "output_type": "display_data"
    },
    {
     "name": "stdout",
     "output_type": "stream",
     "text": [
      "Predicted class: 3\n",
      "Predicted probability: 1.0\n",
      "Predicted char: 02T\n"
     ]
    },
    {
     "data": {
      "image/png": "[encoded data removed]",
      "text/plain": [
       "<Figure size 864x144 with 1 Axes>"
      ]
     },
     "metadata": {
      "needs_background": "light"
     },
     "output_type": "display_data"
    },
    {
     "name": "stdout",
     "output_type": "stream",
     "text": [
      "Predicted class: 3\n",
      "Predicted probability: 1.0\n",
      "Predicted char: 02T\n"
     ]
    },
    {
     "data": {
      "image/png": "[encoded data removed]",
      "text/plain": [
       "<Figure size 864x144 with 1 Axes>"
      ]
     },
     "metadata": {
      "needs_background": "light"
     },
     "output_type": "display_data"
    },
    {
     "name": "stdout",
     "output_type": "stream",
     "text": [
      "Predicted class: 6\n",
      "Predicted probability: 1.0\n",
      "Predicted char: other\n"
     ]
    },
    {
     "data": {
      "image/png": "[encoded data removed]",
      "text/plain": [
       "<Figure size 864x144 with 1 Axes>"
      ]
     },
     "metadata": {
      "needs_background": "light"
     },
     "output_type": "display_data"
    },
    {
     "name": "stdout",
     "output_type": "stream",
     "text": [
      "Predicted class: 6\n",
      "Predicted probability: 1.0\n",
      "Predicted char: other\n"
     ]
    },
    {
     "data": {
      "image/png": "[encoded data removed]",
      "text/plain": [
       "<Figure size 864x144 with 1 Axes>"
      ]
     },
     "metadata": {
      "needs_background": "light"
     },
     "output_type": "display_data"
    },
    {
     "name": "stdout",
     "output_type": "stream",
     "text": [
      "Predicted class: 6\n",
      "Predicted probability: 1.0\n",
      "Predicted char: other\n"
     ]
    },
    {
     "data": {
      "image/png": "[encoded data removed]",
      "text/plain": [
       "<Figure size 864x144 with 1 Axes>"
      ]
     },
     "metadata": {
      "needs_background": "light"
     },
     "output_type": "display_data"
    },
    {
     "name": "stdout",
     "output_type": "stream",
     "text": [
      "Predicted class: 6\n",
      "Predicted probability: 1.0\n",
      "Predicted char: other\n"
     ]
    },
    {
     "data": {
      "image/png": "[encoded data removed]",
      "text/plain": [
       "<Figure size 864x144 with 1 Axes>"
      ]
     },
     "metadata": {
      "needs_background": "light"
     },
     "output_type": "display_data"
    },
    {
     "name": "stdout",
     "output_type": "stream",
     "text": [
      "Predicted class: 6\n",
      "Predicted probability: 1.0\n",
      "Predicted char: other\n"
     ]
    },
    {
     "data": {
      "image/png": "[encoded data removed]",
      "text/plain": [
       "<Figure size 864x144 with 1 Axes>"
      ]
     },
     "metadata": {
      "needs_background": "light"
     },
     "output_type": "display_data"
    },
    {
     "name": "stdout",
     "output_type": "stream",
     "text": [
      "Predicted class: 6\n",
      "Predicted probability: 1.0\n",
      "Predicted char: other\n"
     ]
    },
    {
     "data": {
      "image/png": "[encoded data removed]",
      "text/plain": [
       "<Figure size 864x144 with 1 Axes>"
      ]
     },
     "metadata": {
      "needs_background": "light"
     },
     "output_type": "display_data"
    },
    {
     "name": "stdout",
     "output_type": "stream",
     "text": [
      "Predicted class: 6\n",
      "Predicted probability: 1.0\n",
      "Predicted char: other\n"
     ]
    },
    {
     "data": {
      "image/png": "[encoded data removed]",
      "text/plain": [
       "<Figure size 864x144 with 1 Axes>"
      ]
     },
     "metadata": {
      "needs_background": "light"
     },
     "output_type": "display_data"
    },
    {
     "name": "stdout",
     "output_type": "stream",
     "text": [
      "Predicted class: 3\n",
      "Predicted probability: 1.0\n",
      "Predicted char: 02T\n"
     ]
    },
    {
     "data": {
      "image/png": "[encoded data removed]",
      "text/plain": [
       "<Figure size 864x144 with 1 Axes>"
      ]
     },
     "metadata": {
      "needs_background": "light"
     },
     "output_type": "display_data"
    },
    {
     "name": "stdout",
     "output_type": "stream",
     "text": [
      "Predicted class: 0\n",
      "Predicted probability: 1.0\n",
      "Predicted char: 01B\n"
     ]
    },
    {
     "data": {
      "image/png": "[encoded data removed]",
      "text/plain": [
       "<Figure size 864x144 with 1 Axes>"
      ]
     },
     "metadata": {
      "needs_background": "light"
     },
     "output_type": "display_data"
    },
    {
     "name": "stdout",
     "output_type": "stream",
     "text": [
      "Predicted class: 6\n",
      "Predicted probability: 1.0\n",
      "Predicted char: other\n"
     ]
    },
    {
     "data": {
      "image/png": "[encoded data removed]",
      "text/plain": [
       "<Figure size 864x144 with 1 Axes>"
      ]
     },
     "metadata": {
      "needs_background": "light"
     },
     "output_type": "display_data"
    },
    {
     "name": "stdout",
     "output_type": "stream",
     "text": [
      "Predicted class: 6\n",
      "Predicted probability: 1.0\n",
      "Predicted char: other\n"
     ]
    },
    {
     "data": {
      "image/png": "[encoded data removed]",
      "text/plain": [
       "<Figure size 864x144 with 1 Axes>"
      ]
     },
     "metadata": {
      "needs_background": "light"
     },
     "output_type": "display_data"
    },
    {
     "name": "stdout",
     "output_type": "stream",
     "text": [
      "Predicted class: 6\n",
      "Predicted probability: 1.0\n",
      "Predicted char: other\n"
     ]
    },
    {
     "data": {
      "image/png": "[encoded data removed]",
      "text/plain": [
       "<Figure size 864x144 with 1 Axes>"
      ]
     },
     "metadata": {
      "needs_background": "light"
     },
     "output_type": "display_data"
    },
    {
     "name": "stdout",
     "output_type": "stream",
     "text": [
      "Predicted class: 6\n",
      "Predicted probability: 1.0\n",
      "Predicted char: other\n"
     ]
    },
    {
     "data": {
      "image/png": "[encoded data removed]",
      "text/plain": [
       "<Figure size 864x144 with 1 Axes>"
      ]
     },
     "metadata": {
      "needs_background": "light"
     },
     "output_type": "display_data"
    },
    {
     "name": "stdout",
     "output_type": "stream",
     "text": [
      "Predicted class: 6\n",
      "Predicted probability: 1.0\n",
      "Predicted char: other\n"
     ]
    }
   ],
   "source": [
    "predict = model.predict(test_features).round(2)\n",
    "for i in np.random.randint(1,len(test_features),size=25):\n",
    "    \n",
    "    img = test_features[i,:,:,:]\n",
    "      \n",
    "    fig = plt.figure(figsize=(12,2))\n",
    "    plt.imshow(img)\n",
    "    plt.show()\n",
    "    \n",
    "    img = img.reshape(1, resolution_x, resolution_y, 3)\n",
    "    predict = model.predict(img).round(2)\n",
    "    table=pd.DataFrame(predict[0])\n",
    "    pred_class = int(table.idxmax())\n",
    "    pred_proba = table.loc[pred_class].max()\n",
    "    pred_char = alfabet[int(table.idxmax())]\n",
    "    \n",
    "    print('Predicted class:', pred_class)\n",
    "    print('Predicted probability:', pred_proba)\n",
    "    print('Predicted char:', pred_char)"
   ]
  },
  {
   "cell_type": "code",
   "execution_count": null,
   "id": "e48f54ee",
   "metadata": {},
   "outputs": [],
   "source": []
  }
 ],
 "metadata": {
  "celltoolbar": "Отсутствует",
  "kernelspec": {
   "display_name": "Python 3 (ipykernel)",
   "language": "python",
   "name": "python3"
  },
  "language_info": {
   "codemirror_mode": {
    "name": "ipython",
    "version": 3
   },
   "file_extension": ".py",
   "mimetype": "text/x-python",
   "name": "python",
   "nbconvert_exporter": "python",
   "pygments_lexer": "ipython3",
   "version": "3.10.6"
  },
  "toc": {
   "base_numbering": 1,
   "nav_menu": {},
   "number_sections": true,
   "sideBar": true,
   "skip_h1_title": false,
   "title_cell": "Table of Contents",
   "title_sidebar": "Contents",
   "toc_cell": false,
   "toc_position": {},
   "toc_section_display": true,
   "toc_window_display": false
  }
 },
 "nbformat": 4,
 "nbformat_minor": 5
}
